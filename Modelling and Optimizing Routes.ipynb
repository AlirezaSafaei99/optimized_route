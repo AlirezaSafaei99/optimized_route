{
 "cells": [
  {
   "cell_type": "code",
   "execution_count": 1,
   "id": "21496586",
   "metadata": {},
   "outputs": [
    {
     "data": {
      "application/vnd.jupyter.widget-view+json": {
       "model_id": "e2be5fcc597d45799bcd10d1cf512b56",
       "version_major": 2,
       "version_minor": 0
      },
      "text/plain": [
       "Map(center=[40.7685, -73.97954999999999], controls=(ZoomControl(options=['position', 'zoom_in_text', 'zoom_in_…"
      ]
     },
     "execution_count": 1,
     "metadata": {},
     "output_type": "execute_result"
    }
   ],
   "source": [
    "# Import the libraries\n",
    "import ipyleaflet\n",
    "from ipyleaflet import Map, Polyline, Marker\n",
    "import osmnx as ox\n",
    "import networkx as nx\n",
    "\n",
    "# Create the origin variable and destination variable to have the coordinates\n",
    "# Test Location ate NewYork University and Columbia University\n",
    "origin_coor = [40.7295, -73.9965]\n",
    "destination_coor = [40.8075, -73.9626]\n",
    "\n",
    "# Create a data to store the graph data of Manhattan, \n",
    "# then create 2 node variables to store nearest node of origin and destination\n",
    "graph_data = ox.graph_from_place(\"Manhattan, New York, USA\", network_type=\"drive\")\n",
    "origin_node = ox.distance.nearest_nodes(graph_data, origin_coor[1], origin_coor[0])\n",
    "destination_node = ox.distance.nearest_nodes(graph_data, destination_coor[1], destination_coor[0])\n",
    "\n",
    "# Calculationg the shortest path using the 2 variable that we create and then get the coordiantes of the path\n",
    "shortest_path = nx.shortest_path(graph_data, origin_node, destination_node, weight=\"length\")\n",
    "path_coor = [(graph_data.nodes[node][\"y\"], graph_data.nodes[node][\"x\"]) for node in shortest_path]\n",
    "\n",
    "# Create the base map which is centered around the origin and destination\n",
    "base_map = Map(center=[(origin_coor[0]+destination_coor[0])/2, (origin_coor[1]+destination_coor[1])/2], zoom=13)\n",
    "origin_marker = Marker(location=origin_coor, draggable=False, title=\"New York University\")\n",
    "destination_marker = Marker(location=destination_coor, draggable=False, title=\"Columbia University\")\n",
    "base_map.add_layer(origin_marker)\n",
    "base_map.add_layer(destination_marker)\n",
    "path_line = Polyline(locations=path_coor, color=\"blue\", fill=False)\n",
    "base_map.add_layer(path_line)\n",
    "base_map.save(\"Route Optimization.html\")\n",
    "base_map"
   ]
  },
  {
   "cell_type": "code",
   "execution_count": null,
   "id": "772d8741",
   "metadata": {},
   "outputs": [],
   "source": []
  }
 ],
 "metadata": {
  "kernelspec": {
   "display_name": "Python 3 (ipykernel)",
   "language": "python",
   "name": "python3"
  },
  "language_info": {
   "codemirror_mode": {
    "name": "ipython",
    "version": 3
   },
   "file_extension": ".py",
   "mimetype": "text/x-python",
   "name": "python",
   "nbconvert_exporter": "python",
   "pygments_lexer": "ipython3",
   "version": "3.11.5"
  }
 },
 "nbformat": 4,
 "nbformat_minor": 5
}
